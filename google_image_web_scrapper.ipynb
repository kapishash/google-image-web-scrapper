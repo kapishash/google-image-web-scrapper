{
 "cells": [
  {
   "cell_type": "code",
   "execution_count": 32,
   "id": "8a43fd05-7049-4723-a361-b05b9be779f6",
   "metadata": {},
   "outputs": [],
   "source": [
    "import requests as re\n",
    "from bs4 import BeautifulSoup as bs\n",
    "import os\n",
    "from urllib.request import urlopen as uReq"
   ]
  },
  {
   "cell_type": "code",
   "execution_count": 33,
   "id": "62239671-e34f-464b-a188-cd6bb56ed8e1",
   "metadata": {},
   "outputs": [],
   "source": [
    "save_dir = 'images/'\n",
    "if not os.path.exists(save_dir):\n",
    "    os.makedirs(save_dir)"
   ]
  },
  {
   "cell_type": "code",
   "execution_count": 34,
   "id": "7137946c-ab1d-4f16-a774-b5f4da02374f",
   "metadata": {},
   "outputs": [],
   "source": [
    "query = 'amitabh bachchan'\n",
    "response = re.get(f'https://www.google.co.in/search?q={query}&sca_esv=97a1783dabf6226b&hl=en&tbm=isch&sxsrf=ACQVn0-FknMSe6xMlIszmHiUzXDDTE2wGw%3A1707658285231&source=hp&biw=1918&bih=959&ei=LczIZcGLDM6Pvr0P89K04AQ&iflsig=ANes7DEAAAAAZcjaPStztt8mHfuSyyX7OGuvXvjtCVjS&oq=vickey+&gs_lp=EgNpbWciB3ZpY2tleSAqAggAMgUQABiABDIFEAAYgAQyBRAAGIAEMgUQABiABDIFEAAYgAQyBRAAGIAEMgUQABiABDIFEAAYgAQyBRAAGIAEMgUQABiABEiuUVDPN1iqRXACeACQAQGYAdkBoAHTCKoBBTAuNi4xuAEDyAEA-AEBigILZ3dzLXdpei1pbWeoAgrCAgcQIxjqAhgnwgIOEAAYgAQYigUYsQMYgwHCAgQQABgDwgIIEAAYgAQYsQPCAgsQABiABBixAxiDAQ&sclient=img')"
   ]
  },
  {
   "cell_type": "code",
   "execution_count": 35,
   "id": "173e3207-da76-486a-8d67-ebe15f64fc8f",
   "metadata": {},
   "outputs": [
    {
     "data": {
      "text/plain": [
       "<Response [200]>"
      ]
     },
     "execution_count": 35,
     "metadata": {},
     "output_type": "execute_result"
    }
   ],
   "source": [
    "response"
   ]
  },
  {
   "cell_type": "code",
   "execution_count": 36,
   "id": "1c3eefa5-3212-4c07-aad5-2b24abc3b015",
   "metadata": {
    "tags": []
   },
   "outputs": [],
   "source": [
    "soup = bs(response.content, 'html.parser')"
   ]
  },
  {
   "cell_type": "code",
   "execution_count": 37,
   "id": "401ae7d5-af38-4333-a20f-26a60b578e3d",
   "metadata": {},
   "outputs": [],
   "source": [
    "image_tags = soup.find_all('img')"
   ]
  },
  {
   "cell_type": "code",
   "execution_count": 38,
   "id": "822d8c9d-a8d9-4902-b651-380974083546",
   "metadata": {
    "tags": []
   },
   "outputs": [
    {
     "data": {
      "text/plain": [
       "[<img alt=\"Google\" class=\"kgJEQe\" src=\"/images/branding/searchlogo/1x/googlelogo_desk_heirloom_color_150x55dp.gif\"/>,\n",
       " <img alt=\"\" class=\"DS1iW\" src=\"https://encrypted-tbn0.gstatic.com/images?q=tbn:ANd9GcQWlY4bJg6KCiZAABFxdCRBqqu3VVhX-c0-2HqeMsxmkqHMcs0iReFGPOmWDSM&amp;s\"/>,\n",
       " <img alt=\"\" class=\"DS1iW\" src=\"https://encrypted-tbn0.gstatic.com/images?q=tbn:ANd9GcTpL1BtecwjsuaS0AJV3VzzifYF7L2RmGh9NqbKv2yTh9fSsbScjp38sIFV6w&amp;s\"/>,\n",
       " <img alt=\"\" class=\"DS1iW\" src=\"https://encrypted-tbn0.gstatic.com/images?q=tbn:ANd9GcReLbi-f1Gy56BiWuvfUM5TNT23XuQq_8yha6qiO7E-M8gjk638jpY8gxKDdw&amp;s\"/>,\n",
       " <img alt=\"\" class=\"DS1iW\" src=\"https://encrypted-tbn0.gstatic.com/images?q=tbn:ANd9GcQFkxylHmgG0nKpMZrwEHO5DN1NGfcHJPcF7BEpUlFDF5NkqDFlVXxb65SMBTg&amp;s\"/>,\n",
       " <img alt=\"\" class=\"DS1iW\" src=\"https://encrypted-tbn0.gstatic.com/images?q=tbn:ANd9GcSvrl6B_9ItuQteNQlASBvBDZqoSGdZpmBPqi3FMXbQecXabijfXJFFfl5JMuA&amp;s\"/>,\n",
       " <img alt=\"\" class=\"DS1iW\" src=\"https://encrypted-tbn0.gstatic.com/images?q=tbn:ANd9GcR8o-xvDavGvy4Qng3yAzxLyQ3JJN0ySAkuIE_CS6cOqHVHR3ZGZUtiwmLgCA&amp;s\"/>,\n",
       " <img alt=\"\" class=\"DS1iW\" src=\"https://encrypted-tbn0.gstatic.com/images?q=tbn:ANd9GcSmwLyA4dnmI_cUAiUAkTJY_6oxrKCAWzeK9jH5KrOab0M5Uo5GcYyXLTPE-Q&amp;s\"/>,\n",
       " <img alt=\"\" class=\"DS1iW\" src=\"https://encrypted-tbn0.gstatic.com/images?q=tbn:ANd9GcSL9Y3nJEzjMpr8Q6yHFBiSMo0ysEUcY1wHpVt7YsYIWDDjS41XKmnJRR4qyA&amp;s\"/>,\n",
       " <img alt=\"\" class=\"DS1iW\" src=\"https://encrypted-tbn0.gstatic.com/images?q=tbn:ANd9GcSDzaFklhtLuEgo7m98kK2dI4XT5SseffBXdlz_IfE0QTz84j5S22Bau-VTYlA&amp;s\"/>,\n",
       " <img alt=\"\" class=\"DS1iW\" src=\"https://encrypted-tbn0.gstatic.com/images?q=tbn:ANd9GcSMI35BAZQboYo5eWWJ3W81wRAP6kvnXUo0yjcHOBDIFN3Gw2CwClvntOr9-Wk&amp;s\"/>,\n",
       " <img alt=\"\" class=\"DS1iW\" src=\"https://encrypted-tbn0.gstatic.com/images?q=tbn:ANd9GcTM6th8ZjzNsUDKq2a4GMZIPeYShPe-3V29KJlzmWdLCPM8-gdS1sI9k9Z-e-o&amp;s\"/>,\n",
       " <img alt=\"\" class=\"DS1iW\" src=\"https://encrypted-tbn0.gstatic.com/images?q=tbn:ANd9GcQ6n-CverN9Wm_YEfYo2GGJWn9_GAttIvCNLkj0LONmDI5S2Tx_Ziz2yD9jCA&amp;s\"/>,\n",
       " <img alt=\"\" class=\"DS1iW\" src=\"https://encrypted-tbn0.gstatic.com/images?q=tbn:ANd9GcTc3YW3biyTv_xyUd1zmt9VAvQFtXMpnkKo8Rv5xkB8x82MbiXZ-Huwg_8FTU0&amp;s\"/>,\n",
       " <img alt=\"\" class=\"DS1iW\" src=\"https://encrypted-tbn0.gstatic.com/images?q=tbn:ANd9GcSOkRV-2I0u0r2gAzUW41kSKuBz02UcLQSxzAMcn_NFNozYXVlgjcLfy6iQ_w&amp;s\"/>,\n",
       " <img alt=\"\" class=\"DS1iW\" src=\"https://encrypted-tbn0.gstatic.com/images?q=tbn:ANd9GcQq_MKzfNG7lED2DTuKIjZgXctwhEb3cejxzqPjNhB-yVsa2XpmUnhocreEJLo&amp;s\"/>,\n",
       " <img alt=\"\" class=\"DS1iW\" src=\"https://encrypted-tbn0.gstatic.com/images?q=tbn:ANd9GcQPp-IydVQ5Ozj0le_ajPzjEQ8kR8DDuKS1BHPc4b9DtYBfMgXLV2Gcs1paoRM&amp;s\"/>,\n",
       " <img alt=\"\" class=\"DS1iW\" src=\"https://encrypted-tbn0.gstatic.com/images?q=tbn:ANd9GcQhTgNPonnhINJkq6WHw-tlE2ptK6UnBJufKvFY-lhadxyfCc7TOF6Pd5d8bhk&amp;s\"/>,\n",
       " <img alt=\"\" class=\"DS1iW\" src=\"https://encrypted-tbn0.gstatic.com/images?q=tbn:ANd9GcQXhhJ8XucWdSiqSEzQy77if-C0wTJxttKl3U4tPxgaJ0pQjIRNmXIajtakwQ&amp;s\"/>,\n",
       " <img alt=\"\" class=\"DS1iW\" src=\"https://encrypted-tbn0.gstatic.com/images?q=tbn:ANd9GcSJ9BmhuV8eZRJ5t516RLtbrKmJ1H3FC1nDPmshQAexYxu3Ta1tVkDDhIqSsgI&amp;s\"/>,\n",
       " <img alt=\"\" class=\"DS1iW\" src=\"https://encrypted-tbn0.gstatic.com/images?q=tbn:ANd9GcSYb2o8oUWV08DGqysDeRoe3JsjyJcJlaFYdNDlAjFabcibB8MQebpI2EDlsuA&amp;s\"/>]"
      ]
     },
     "execution_count": 38,
     "metadata": {},
     "output_type": "execute_result"
    }
   ],
   "source": [
    "image_tags"
   ]
  },
  {
   "cell_type": "code",
   "execution_count": 39,
   "id": "09359557-38e4-4809-b123-446873c32331",
   "metadata": {},
   "outputs": [
    {
     "data": {
      "text/plain": [
       "21"
      ]
     },
     "execution_count": 39,
     "metadata": {},
     "output_type": "execute_result"
    }
   ],
   "source": [
    "len(image_tags)"
   ]
  },
  {
   "cell_type": "code",
   "execution_count": 40,
   "id": "e1256e41-4bea-4d72-93bc-2e8536dfb68c",
   "metadata": {},
   "outputs": [
    {
     "data": {
      "text/plain": [
       "<img alt=\"Google\" class=\"kgJEQe\" src=\"/images/branding/searchlogo/1x/googlelogo_desk_heirloom_color_150x55dp.gif\"/>"
      ]
     },
     "execution_count": 40,
     "metadata": {},
     "output_type": "execute_result"
    }
   ],
   "source": [
    "image_tags.pop(0)"
   ]
  },
  {
   "cell_type": "code",
   "execution_count": 41,
   "id": "5008bfa1-cea0-465e-994b-6592d8ee278c",
   "metadata": {
    "tags": []
   },
   "outputs": [
    {
     "data": {
      "text/plain": [
       "[<img alt=\"\" class=\"DS1iW\" src=\"https://encrypted-tbn0.gstatic.com/images?q=tbn:ANd9GcQWlY4bJg6KCiZAABFxdCRBqqu3VVhX-c0-2HqeMsxmkqHMcs0iReFGPOmWDSM&amp;s\"/>,\n",
       " <img alt=\"\" class=\"DS1iW\" src=\"https://encrypted-tbn0.gstatic.com/images?q=tbn:ANd9GcTpL1BtecwjsuaS0AJV3VzzifYF7L2RmGh9NqbKv2yTh9fSsbScjp38sIFV6w&amp;s\"/>,\n",
       " <img alt=\"\" class=\"DS1iW\" src=\"https://encrypted-tbn0.gstatic.com/images?q=tbn:ANd9GcReLbi-f1Gy56BiWuvfUM5TNT23XuQq_8yha6qiO7E-M8gjk638jpY8gxKDdw&amp;s\"/>,\n",
       " <img alt=\"\" class=\"DS1iW\" src=\"https://encrypted-tbn0.gstatic.com/images?q=tbn:ANd9GcQFkxylHmgG0nKpMZrwEHO5DN1NGfcHJPcF7BEpUlFDF5NkqDFlVXxb65SMBTg&amp;s\"/>,\n",
       " <img alt=\"\" class=\"DS1iW\" src=\"https://encrypted-tbn0.gstatic.com/images?q=tbn:ANd9GcSvrl6B_9ItuQteNQlASBvBDZqoSGdZpmBPqi3FMXbQecXabijfXJFFfl5JMuA&amp;s\"/>,\n",
       " <img alt=\"\" class=\"DS1iW\" src=\"https://encrypted-tbn0.gstatic.com/images?q=tbn:ANd9GcR8o-xvDavGvy4Qng3yAzxLyQ3JJN0ySAkuIE_CS6cOqHVHR3ZGZUtiwmLgCA&amp;s\"/>,\n",
       " <img alt=\"\" class=\"DS1iW\" src=\"https://encrypted-tbn0.gstatic.com/images?q=tbn:ANd9GcSmwLyA4dnmI_cUAiUAkTJY_6oxrKCAWzeK9jH5KrOab0M5Uo5GcYyXLTPE-Q&amp;s\"/>,\n",
       " <img alt=\"\" class=\"DS1iW\" src=\"https://encrypted-tbn0.gstatic.com/images?q=tbn:ANd9GcSL9Y3nJEzjMpr8Q6yHFBiSMo0ysEUcY1wHpVt7YsYIWDDjS41XKmnJRR4qyA&amp;s\"/>,\n",
       " <img alt=\"\" class=\"DS1iW\" src=\"https://encrypted-tbn0.gstatic.com/images?q=tbn:ANd9GcSDzaFklhtLuEgo7m98kK2dI4XT5SseffBXdlz_IfE0QTz84j5S22Bau-VTYlA&amp;s\"/>,\n",
       " <img alt=\"\" class=\"DS1iW\" src=\"https://encrypted-tbn0.gstatic.com/images?q=tbn:ANd9GcSMI35BAZQboYo5eWWJ3W81wRAP6kvnXUo0yjcHOBDIFN3Gw2CwClvntOr9-Wk&amp;s\"/>,\n",
       " <img alt=\"\" class=\"DS1iW\" src=\"https://encrypted-tbn0.gstatic.com/images?q=tbn:ANd9GcTM6th8ZjzNsUDKq2a4GMZIPeYShPe-3V29KJlzmWdLCPM8-gdS1sI9k9Z-e-o&amp;s\"/>,\n",
       " <img alt=\"\" class=\"DS1iW\" src=\"https://encrypted-tbn0.gstatic.com/images?q=tbn:ANd9GcQ6n-CverN9Wm_YEfYo2GGJWn9_GAttIvCNLkj0LONmDI5S2Tx_Ziz2yD9jCA&amp;s\"/>,\n",
       " <img alt=\"\" class=\"DS1iW\" src=\"https://encrypted-tbn0.gstatic.com/images?q=tbn:ANd9GcTc3YW3biyTv_xyUd1zmt9VAvQFtXMpnkKo8Rv5xkB8x82MbiXZ-Huwg_8FTU0&amp;s\"/>,\n",
       " <img alt=\"\" class=\"DS1iW\" src=\"https://encrypted-tbn0.gstatic.com/images?q=tbn:ANd9GcSOkRV-2I0u0r2gAzUW41kSKuBz02UcLQSxzAMcn_NFNozYXVlgjcLfy6iQ_w&amp;s\"/>,\n",
       " <img alt=\"\" class=\"DS1iW\" src=\"https://encrypted-tbn0.gstatic.com/images?q=tbn:ANd9GcQq_MKzfNG7lED2DTuKIjZgXctwhEb3cejxzqPjNhB-yVsa2XpmUnhocreEJLo&amp;s\"/>,\n",
       " <img alt=\"\" class=\"DS1iW\" src=\"https://encrypted-tbn0.gstatic.com/images?q=tbn:ANd9GcQPp-IydVQ5Ozj0le_ajPzjEQ8kR8DDuKS1BHPc4b9DtYBfMgXLV2Gcs1paoRM&amp;s\"/>,\n",
       " <img alt=\"\" class=\"DS1iW\" src=\"https://encrypted-tbn0.gstatic.com/images?q=tbn:ANd9GcQhTgNPonnhINJkq6WHw-tlE2ptK6UnBJufKvFY-lhadxyfCc7TOF6Pd5d8bhk&amp;s\"/>,\n",
       " <img alt=\"\" class=\"DS1iW\" src=\"https://encrypted-tbn0.gstatic.com/images?q=tbn:ANd9GcQXhhJ8XucWdSiqSEzQy77if-C0wTJxttKl3U4tPxgaJ0pQjIRNmXIajtakwQ&amp;s\"/>,\n",
       " <img alt=\"\" class=\"DS1iW\" src=\"https://encrypted-tbn0.gstatic.com/images?q=tbn:ANd9GcSJ9BmhuV8eZRJ5t516RLtbrKmJ1H3FC1nDPmshQAexYxu3Ta1tVkDDhIqSsgI&amp;s\"/>,\n",
       " <img alt=\"\" class=\"DS1iW\" src=\"https://encrypted-tbn0.gstatic.com/images?q=tbn:ANd9GcSYb2o8oUWV08DGqysDeRoe3JsjyJcJlaFYdNDlAjFabcibB8MQebpI2EDlsuA&amp;s\"/>]"
      ]
     },
     "execution_count": 41,
     "metadata": {},
     "output_type": "execute_result"
    }
   ],
   "source": [
    "image_tags"
   ]
  },
  {
   "cell_type": "code",
   "execution_count": 42,
   "id": "a92b99c8-dc0f-489c-b799-edfef0d10d21",
   "metadata": {},
   "outputs": [],
   "source": [
    "for i in image_tags:\n",
    "    image_url = i['src']\n",
    "    image_data = re.get(image_url).content\n",
    "    with open(os.path.join(save_dir,f'{query}_{image_tags.index(i)}.jpg'), 'wb') as f:\n",
    "        f.write(image_data)"
   ]
  },
  {
   "cell_type": "code",
   "execution_count": null,
   "id": "b1aff65e-1d08-4ee1-972a-c636b4d77240",
   "metadata": {},
   "outputs": [],
   "source": []
  }
 ],
 "metadata": {
  "kernelspec": {
   "display_name": "Python 3 (ipykernel)",
   "language": "python",
   "name": "python3"
  },
  "language_info": {
   "codemirror_mode": {
    "name": "ipython",
    "version": 3
   },
   "file_extension": ".py",
   "mimetype": "text/x-python",
   "name": "python",
   "nbconvert_exporter": "python",
   "pygments_lexer": "ipython3",
   "version": "3.10.8"
  }
 },
 "nbformat": 4,
 "nbformat_minor": 5
}
